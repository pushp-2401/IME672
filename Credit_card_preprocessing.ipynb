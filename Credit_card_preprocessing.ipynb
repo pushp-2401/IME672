{
  "nbformat": 4,
  "nbformat_minor": 0,
  "metadata": {
    "colab": {
      "name": "Credit_card_preprocessing",
      "private_outputs": true,
      "provenance": [],
      "authorship_tag": "ABX9TyMl5EqBeBWLJKF8zz2nUQwp",
      "include_colab_link": true
    },
    "kernelspec": {
      "name": "python3",
      "display_name": "Python 3"
    },
    "language_info": {
      "name": "python"
    }
  },
  "cells": [
    {
      "cell_type": "markdown",
      "metadata": {
        "id": "view-in-github",
        "colab_type": "text"
      },
      "source": [
        "<a href=\"https://colab.research.google.com/github/pushp-2401/IME672/blob/main/Credit_card_preprocessing.ipynb\" target=\"_parent\"><img src=\"https://colab.research.google.com/assets/colab-badge.svg\" alt=\"Open In Colab\"/></a>"
      ]
    },
    {
      "cell_type": "code",
      "metadata": {
        "id": "YM3dETBx6nIP"
      },
      "source": [
        "import numpy as np\n",
        "import pandas as pd \n",
        "import seaborn as sns\n",
        "import matplotlib.pyplot as plt\n",
        "import matplotlib.gridspec as gridspec "
      ],
      "execution_count": null,
      "outputs": []
    },
    {
      "cell_type": "code",
      "metadata": {
        "id": "-xXrsuCx61hR"
      },
      "source": [
        "df = pd.read_csv('creditcard.csv')"
      ],
      "execution_count": null,
      "outputs": []
    },
    {
      "cell_type": "code",
      "metadata": {
        "id": "v_suLsav64iI"
      },
      "source": [
        "data_top = df.head()\n",
        "data_top.to_csv(\"data_head.csv\")\n",
        "df.head(10)"
      ],
      "execution_count": null,
      "outputs": []
    },
    {
      "cell_type": "code",
      "metadata": {
        "id": "u1hxZX-X69C_"
      },
      "source": [
        "data_summary = df.describe()\n",
        "data_summary.to_csv(\"data_summary.csv\")\n",
        "df.describe()"
      ],
      "execution_count": null,
      "outputs": []
    },
    {
      "cell_type": "code",
      "metadata": {
        "id": "SdaBTA2z6_5e"
      },
      "source": [
        "df[['Time', 'Amount']].describe()"
      ],
      "execution_count": null,
      "outputs": []
    },
    {
      "cell_type": "code",
      "metadata": {
        "id": "zrJNAS0H7Cel"
      },
      "source": [
        "print('Non Fraudulent: ', round(df['Class'].value_counts()[0]/len(df) * 100,3), '% of the dataset')\n",
        "print('Fraudulent: ', round(df['Class'].value_counts()[1]/len(df) * 100,3), '% of the dataset')\n",
        "\n",
        "# colors = [\"#0101DF\", \"#DF0101\"]\n",
        "# sns.countplot('Class', data=df, palette=colors)\n",
        "# plt.title('Class Distributions \\n (0: No Fraud || 1: Fraud)', fontsize=14)\n",
        "# plt.show()\n",
        "\n",
        "fig, ax = plt.subplots(1, 2, figsize=(18,4))\n",
        "\n",
        "amount_val = df['Amount'].values\n",
        "time_val = df['Time'].values\n",
        "\n",
        "sns.distplot(amount_val, ax=ax[0], color='r')\n",
        "ax[0].set_title('Distribution of Transaction Amount', fontsize=14)\n",
        "ax[0].set_xlim([min(amount_val), max(amount_val)])\n",
        "\n",
        "sns.distplot(time_val, ax=ax[1], color='b')\n",
        "ax[1].set_title('Distribution of Transaction Time', fontsize=14)\n",
        "ax[1].set_xlim([min(time_val), max(time_val)])\n",
        "# for i =1:30:\n",
        "\n",
        "plt.show()"
      ],
      "execution_count": null,
      "outputs": []
    },
    {
      "cell_type": "code",
      "metadata": {
        "id": "3wJ9nyeg7FrT"
      },
      "source": [
        "counts = df.Class.value_counts()\n",
        "normal = counts[0]\n",
        "fraudulent = counts[1]\n",
        "plt.figure(figsize=(8,6))\n",
        "sns.barplot(x=counts.index, y=counts)\n",
        "plt.title('Count of Fraudulent vs. Non-Fraudulent Transactions')\n",
        "plt.ylabel('Count')\n",
        "plt.xlabel('Class (0:Non-Fraudulent, 1:Fraudulent)')"
      ],
      "execution_count": null,
      "outputs": []
    },
    {
      "cell_type": "code",
      "metadata": {
        "id": "C36j4Gs67S05"
      },
      "source": [
        "plt.subplot(121)\n",
        "ax = sns.boxplot(x =\"Class\",y=\"Amount\",\n",
        "                 data=df)\n",
        "ax.set_title(\"Class x Amount\", fontsize=20)\n",
        "ax.set_xlabel(\"Is Fraud?\", fontsize=16)\n",
        "ax.set_ylabel(\"Amount\", fontsize = 16)"
      ],
      "execution_count": null,
      "outputs": []
    },
    {
      "cell_type": "code",
      "metadata": {
        "id": "Q_6q_7n27VfO"
      },
      "source": [
        "df[df.Amount > 10000]"
      ],
      "execution_count": null,
      "outputs": []
    },
    {
      "cell_type": "code",
      "metadata": {
        "id": "4EToujTs7YoX"
      },
      "source": [
        "df = df[df.Amount < 10000]\n",
        "df.describe()"
      ],
      "execution_count": null,
      "outputs": []
    },
    {
      "cell_type": "code",
      "metadata": {
        "id": "ozbjt2Pf7beE"
      },
      "source": [
        "#New distribution of amount with Class:\n",
        "plt.subplot(121)\n",
        "ax = sns.boxplot(x =\"Class\",y=\"Amount\",\n",
        "                 data=df)\n",
        "ax.set_title(\"Class x Amount\", fontsize=20)\n",
        "ax.set_xlabel(\"Is Fraud?\", fontsize=16)\n",
        "ax.set_ylabel(\"Amount\", fontsize = 16)"
      ],
      "execution_count": null,
      "outputs": []
    },
    {
      "cell_type": "code",
      "metadata": {
        "id": "lyUjatPR7eX1"
      },
      "source": [
        "data_new = df\n",
        "timedelta = pd.to_timedelta(data_new['Time'], unit='s')\n",
        "#new variable for further analysis\n",
        "data_new['Time_min'] = (timedelta.dt.components.minutes).astype(int)\n",
        "#new variable for further analysis\n",
        "data_new['Time_hour'] = (timedelta.dt.components.hours).astype(int)"
      ],
      "execution_count": null,
      "outputs": []
    },
    {
      "cell_type": "code",
      "metadata": {
        "id": "IqevBQIF7g_T"
      },
      "source": [
        "ax = sns.lmplot(y=\"Amount\", x=\"Time_min\", fit_reg=False, aspect=2.5, data=data_new, hue='Class')\n",
        "plt.title(\"Amounts by Minutes of Frauds and Normal Transactions\",fontsize=12)\n",
        "#plt.savefig('Amount_VS_Time_Scatter.png')"
      ],
      "execution_count": null,
      "outputs": []
    },
    {
      "cell_type": "code",
      "metadata": {
        "id": "O302quC57kOr"
      },
      "source": [
        "plt.figure(figsize=(15,8))\n",
        "# Non-Fraudulent Transactions over Time (in hr) - GREEN\n",
        "sns.distplot(data_new[data_new['Class'] == 0][\"Time_hour\"],\n",
        "             color='g')\n",
        "# Fraudulent Transactions over time (in hr) - RED\n",
        "sns.distplot(data_new[data_new['Class'] == 1][\"Time_hour\"],\n",
        "             color='r')\n",
        "plt.title('Fraud x Normal Transactions by Hours (Red: Fraud; Green:Normal)', fontsize=12)\n",
        "plt.xlim([-1,25])\n",
        "#plt.savefig('Time_distribution_fraud_NonFraud.png')"
      ],
      "execution_count": null,
      "outputs": []
    },
    {
      "cell_type": "code",
      "metadata": {
        "id": "At1BiBYX7mq5"
      },
      "source": [
        "plt.figure(figsize=(16,28*4))\n",
        "gs = gridspec.GridSpec(28, 1)\n",
        "for i, cn in enumerate(data_new[data_new.iloc[:, 1:29].columns]):\n",
        "    ax = plt.subplot(gs[i])\n",
        "    sns.distplot(data_new[cn][data_new.Class == 1], bins=50)\n",
        "    sns.distplot(data_new[cn][data_new.Class == 0], bins=50)\n",
        "    ax.set_xlabel('')\n",
        "    ax.set_title('feature: ' + str(cn))"
      ],
      "execution_count": null,
      "outputs": []
    },
    {
      "cell_type": "code",
      "metadata": {
        "id": "x6widxGg7pYA"
      },
      "source": [
        "from scipy.stats import norm\n",
        "\n",
        "f, (ax1, ax2, ax3) = plt.subplots(1,3, figsize=(20, 6))\n",
        "\n",
        "v14_fraud_dist = df['V14'].loc[df['Class'] == 1].values\n",
        "sns.distplot(v14_fraud_dist,ax=ax1, fit=norm, color='#FB8861')\n",
        "ax1.set_title('V14 Distribution \\n (Fraud Transactions)', fontsize=14)\n",
        "\n",
        "v12_fraud_dist = df['V12'].loc[df['Class'] == 1].values\n",
        "sns.distplot(v12_fraud_dist,ax=ax2, fit=norm, color='#56F9BB')\n",
        "ax2.set_title('V12 Distribution \\n (Fraud Transactions)', fontsize=14)\n",
        "\n",
        "\n",
        "v10_fraud_dist = df['V10'].loc[df['Class'] == 1].values\n",
        "sns.distplot(v10_fraud_dist,ax=ax3, fit=norm, color='#C5B3F9')\n",
        "ax3.set_title('V10 Distribution \\n (Fraud Transactions)', fontsize=14)\n",
        "\n",
        "plt.show()"
      ],
      "execution_count": null,
      "outputs": []
    }
  ]
}